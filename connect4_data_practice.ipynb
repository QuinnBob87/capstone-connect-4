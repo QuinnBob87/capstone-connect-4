{
  "nbformat": 4,
  "nbformat_minor": 0,
  "metadata": {
    "colab": {
      "provenance": []
    },
    "kernelspec": {
      "name": "python3",
      "display_name": "Python 3"
    },
    "language_info": {
      "name": "python"
    }
  },
  "cells": [
    {
      "cell_type": "code",
      "execution_count": 10,
      "metadata": {
        "id": "OFtTD9xp8MsG"
      },
      "outputs": [],
      "source": [
        "import pandas as pd\n",
        "from sklearn.tree import DecisionTreeClassifier\n",
        "from sklearn.model_selection import train_test_split\n",
        "\n",
        "c4_data = pd.read_csv('/content/connect-4.csv')\n",
        "#c4_data.info()\n",
        "\n",
        "#Who's winning?\n",
        "target = c4_data['outcome']\n",
        "features = c4_data.drop(columns='outcome', axis=1)\n",
        "\n",
        "x_train, x_test, y_train, y_test = train_test_split(features, target, test_size = .2)\n",
        "\n",
        "#What are you predicting with this?\n",
        "clf = DecisionTreeClassifier()\n",
        "clf_model = clf.fit(x_train, y_train)"
      ]
    }
  ]
}